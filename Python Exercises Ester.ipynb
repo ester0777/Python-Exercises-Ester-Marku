{
 "cells": [
  {
   "cell_type": "code",
   "execution_count": 1,
   "id": "fcfd6279-6b7d-4919-9516-fd6cdbd6d945",
   "metadata": {},
   "outputs": [],
   "source": [
    "def exercise_1():\n",
    "    print(\"Hello, World!\")\n",
    "    name = input(\"What is your name? \")\n",
    "    print(f\"Nice to meet you, {name}!\")"
   ]
  },
  {
   "cell_type": "code",
   "execution_count": 3,
   "id": "f7a8f7fd-b301-463a-b919-75203acafcf5",
   "metadata": {},
   "outputs": [
    {
     "name": "stdout",
     "output_type": "stream",
     "text": [
      "Hello, World!\n"
     ]
    },
    {
     "name": "stdin",
     "output_type": "stream",
     "text": [
      "What is your name?  ester\n"
     ]
    },
    {
     "name": "stdout",
     "output_type": "stream",
     "text": [
      "Nice to meet you, ester!\n"
     ]
    }
   ],
   "source": [
    "exercise_1()"
   ]
  },
  {
   "cell_type": "code",
   "execution_count": 5,
   "id": "92bb9086-f7e6-46e4-8109-182d9dbc292e",
   "metadata": {},
   "outputs": [],
   "source": [
    "def exercise_2():\n",
    "    num1 = float(input(\"Enter the first number: \"))\n",
    "    num2 = float(input(\"Enter the second number: \"))\n",
    "    print(f\"Sum: {num1 + num2}\")\n",
    "    print(f\"Difference: {num1 - num2}\")\n",
    "    print(f\"Product: {num1 * num2}\")\n",
    "    print(f\"Quotient: {num1 / num2}\")"
   ]
  },
  {
   "cell_type": "code",
   "execution_count": 13,
   "id": "6e139617-cf8e-42c9-a261-f4fca3bec83f",
   "metadata": {},
   "outputs": [
    {
     "name": "stdin",
     "output_type": "stream",
     "text": [
      "Enter the first number:  2\n",
      "Enter the second number:  6\n"
     ]
    },
    {
     "name": "stdout",
     "output_type": "stream",
     "text": [
      "Sum: 8.0\n",
      "Difference: -4.0\n",
      "Product: 12.0\n",
      "Quotient: 0.3333333333333333\n"
     ]
    }
   ],
   "source": [
    "exercise_2()"
   ]
  },
  {
   "cell_type": "code",
   "execution_count": 15,
   "id": "46ebcabf-60eb-4053-9dc5-cc6a1b6f8857",
   "metadata": {},
   "outputs": [],
   "source": [
    "def exercise_3():\n",
    "    temp = float(input(\"Enter the temperature: \"))\n",
    "    unit = input(\"Is it in Celsius or Fahrenheit? (C/F): \").upper()\n",
    "    if unit == \"C\":\n",
    "        converted = (temp * 9/5) + 32\n",
    "        print(f\"{temp}°C is {converted}°F.\")\n",
    "    elif unit == \"F\":\n",
    "        converted = (temp - 32) * 5/9\n",
    "        print(f\"{temp}°F is {converted}°C.\")\n",
    "    else:\n",
    "        print(\"Invalid input. Please type 'C' or 'F'.\")"
   ]
  },
  {
   "cell_type": "code",
   "execution_count": 19,
   "id": "57e0292f-e213-45b1-a234-ac793edb0f96",
   "metadata": {},
   "outputs": [
    {
     "name": "stdin",
     "output_type": "stream",
     "text": [
      "Enter the temperature:  7\n",
      "Is it in Celsius or Fahrenheit? (C/F):  C\n"
     ]
    },
    {
     "name": "stdout",
     "output_type": "stream",
     "text": [
      "7.0°C is 44.6°F.\n"
     ]
    }
   ],
   "source": [
    "exercise_3()"
   ]
  },
  {
   "cell_type": "code",
   "execution_count": 29,
   "id": "37008e16-7b98-4f73-8676-12349a375898",
   "metadata": {},
   "outputs": [],
   "source": [
    "def exercise_4():\n",
    "    import random\n",
    "    target = random.randint(1, 100)\n",
    "    attempts = 7\n",
    "    for i in range(attempts):\n",
    "        guess = int(input(\"Guess the number (1-100): \"))\n",
    "        if guess < target:\n",
    "            print(\"Too low!\")\n",
    "        elif guess > target:\n",
    "            print(\"Too high!\")\n",
    "        else:\n",
    "            print(\"Correct!\")\n",
    "            return\n",
    "        print(f\"Attempts left: {attempts - i - 1}\")\n",
    "    print(f\"Sorry, the correct number was {target}.\")"
   ]
  },
  {
   "cell_type": "code",
   "execution_count": 31,
   "id": "2f9fa7fa-b57e-4faa-8afb-eca488fc04af",
   "metadata": {},
   "outputs": [
    {
     "name": "stdin",
     "output_type": "stream",
     "text": [
      "Guess the number (1-100):  50\n"
     ]
    },
    {
     "name": "stdout",
     "output_type": "stream",
     "text": [
      "Too high!\n",
      "Attempts left: 6\n"
     ]
    },
    {
     "name": "stdin",
     "output_type": "stream",
     "text": [
      "Guess the number (1-100):  36\n"
     ]
    },
    {
     "name": "stdout",
     "output_type": "stream",
     "text": [
      "Too low!\n",
      "Attempts left: 5\n"
     ]
    },
    {
     "name": "stdin",
     "output_type": "stream",
     "text": [
      "Guess the number (1-100):  87\n"
     ]
    },
    {
     "name": "stdout",
     "output_type": "stream",
     "text": [
      "Too high!\n",
      "Attempts left: 4\n"
     ]
    },
    {
     "name": "stdin",
     "output_type": "stream",
     "text": [
      "Guess the number (1-100):  60\n"
     ]
    },
    {
     "name": "stdout",
     "output_type": "stream",
     "text": [
      "Too high!\n",
      "Attempts left: 3\n"
     ]
    },
    {
     "name": "stdin",
     "output_type": "stream",
     "text": [
      "Guess the number (1-100):  55\n"
     ]
    },
    {
     "name": "stdout",
     "output_type": "stream",
     "text": [
      "Too high!\n",
      "Attempts left: 2\n"
     ]
    },
    {
     "name": "stdin",
     "output_type": "stream",
     "text": [
      "Guess the number (1-100):  53\n"
     ]
    },
    {
     "name": "stdout",
     "output_type": "stream",
     "text": [
      "Too high!\n",
      "Attempts left: 1\n"
     ]
    },
    {
     "name": "stdin",
     "output_type": "stream",
     "text": [
      "Guess the number (1-100):  52\n"
     ]
    },
    {
     "name": "stdout",
     "output_type": "stream",
     "text": [
      "Too high!\n",
      "Attempts left: 0\n",
      "Sorry, the correct number was 45.\n"
     ]
    }
   ],
   "source": [
    "exercise_4()"
   ]
  },
  {
   "cell_type": "code",
   "execution_count": 33,
   "id": "46e4a73d-7d74-47e2-8a61-a8628a5e22aa",
   "metadata": {},
   "outputs": [],
   "source": [
    "def exercise_5():\n",
    "    numbers = [4, 7, 10, 2, 8, 5, 1, 9, 3, 6]\n",
    "    print(f\"Smallest: {min(numbers)}\")\n",
    "    print(f\"Largest: {max(numbers)}\")\n",
    "    print(f\"Sum: {sum(numbers)}\")\n",
    "    print(f\"Average: {sum(numbers) / len(numbers)}\")\n",
    "    evens = [num for num in numbers if num % 2 == 0]\n",
    "    print(f\"Even numbers: {evens}\")\n",
    "    print(f\"Original list: {numbers}\")"
   ]
  },
  {
   "cell_type": "code",
   "execution_count": 35,
   "id": "a905788e-10a0-46b6-8dae-1f977919ed57",
   "metadata": {},
   "outputs": [
    {
     "name": "stdout",
     "output_type": "stream",
     "text": [
      "Smallest: 1\n",
      "Largest: 10\n",
      "Sum: 55\n",
      "Average: 5.5\n",
      "Even numbers: [4, 10, 2, 8, 6]\n",
      "Original list: [4, 7, 10, 2, 8, 5, 1, 9, 3, 6]\n"
     ]
    }
   ],
   "source": [
    "exercise_5()"
   ]
  },
  {
   "cell_type": "code",
   "execution_count": 37,
   "id": "d6d80f4a-f80b-4016-b26e-be57f5c0c85b",
   "metadata": {},
   "outputs": [],
   "source": [
    "def exercise_6():\n",
    "    sentence = input(\"Enter a sentence: \").lower()\n",
    "    words = sentence.split()\n",
    "    word_count = {}\n",
    "    for word in words:\n",
    "        word_count[word] = word_count.get(word, 0) + 1\n",
    "    for word, count in word_count.items():\n",
    "        print(f\"{word}: {count}\")"
   ]
  },
  {
   "cell_type": "code",
   "execution_count": 41,
   "id": "7e6be2c1-b87e-498d-8679-68cdb1b1a78f",
   "metadata": {},
   "outputs": [
    {
     "name": "stdin",
     "output_type": "stream",
     "text": [
      "Enter a sentence:  Hello world, hello python\n"
     ]
    },
    {
     "name": "stdout",
     "output_type": "stream",
     "text": [
      "hello: 2\n",
      "world,: 1\n",
      "python: 1\n"
     ]
    }
   ],
   "source": [
    "exercise_6()"
   ]
  },
  {
   "cell_type": "code",
   "execution_count": 43,
   "id": "91fb02cd-dffd-4f3c-9c44-4c2ce2c57ff1",
   "metadata": {},
   "outputs": [],
   "source": [
    "def exercise_7():\n",
    "    password = input(\"Enter a password: \")\n",
    "    rules = {\n",
    "        \"length\": len(password) >= 8,\n",
    "        \"uppercase\": any(char.isupper() for char in password),\n",
    "        \"lowercase\": any(char.islower() for char in password),\n",
    "        \"number\": any(char.isdigit() for char in password)\n",
    "    }\n",
    "    for rule, passed in rules.items():\n",
    "        print(f\"{rule.capitalize()} rule passed: {passed}\")"
   ]
  },
  {
   "cell_type": "code",
   "execution_count": 45,
   "id": "f4297dad-4d28-486f-a029-1d7626006cc8",
   "metadata": {},
   "outputs": [
    {
     "name": "stdin",
     "output_type": "stream",
     "text": [
      "Enter a password:  IamEster\n"
     ]
    },
    {
     "name": "stdout",
     "output_type": "stream",
     "text": [
      "Length rule passed: True\n",
      "Uppercase rule passed: True\n",
      "Lowercase rule passed: True\n",
      "Number rule passed: False\n"
     ]
    }
   ],
   "source": [
    "exercise_7()"
   ]
  },
  {
   "cell_type": "code",
   "execution_count": 3,
   "id": "b0f58dc6-a9bf-4389-981a-d85d8ecb08fd",
   "metadata": {},
   "outputs": [],
   "source": [
    "def exercise_8():\n",
    "    shopping_list = []\n",
    "    while True:\n",
    "        print(\"\\nMenu:\\n1. Add item\\n2. Remove item\\n3. Show list\\n4. Clear list\\n5. Exit\")\n",
    "        choice = input(\"Choose an option: \")\n",
    "        if choice == \"1\":\n",
    "            item = input(\"Enter an item to add: \")\n",
    "            shopping_list.append(item)\n",
    "        elif choice == \"2\":\n",
    "            item = input(\"Enter an item to remove: \")\n",
    "            if item in shopping_list:\n",
    "                shopping_list.remove(item)\n",
    "            else:\n",
    "                print(\"Item not found.\")\n",
    "        elif choice == \"3\":\n",
    "            print(\"\\nShopping List:\")\n",
    "            for i, item in enumerate(shopping_list, start=1):\n",
    "                print(f\"{i}. {item}\")\n",
    "        elif choice == \"4\":\n",
    "            shopping_list.clear()\n",
    "            print(\"Shopping list cleared.\")\n",
    "        elif choice == \"5\":\n",
    "            print(\"Goodbye!\")\n",
    "            break\n",
    "        else:\n",
    "            print(\"Invalid option.\")"
   ]
  },
  {
   "cell_type": "code",
   "execution_count": 5,
   "id": "3b9e3811-fa5e-486f-a885-620c1af1fe73",
   "metadata": {},
   "outputs": [
    {
     "name": "stdout",
     "output_type": "stream",
     "text": [
      "\n",
      "Menu:\n",
      "1. Add item\n",
      "2. Remove item\n",
      "3. Show list\n",
      "4. Clear list\n",
      "5. Exit\n"
     ]
    },
    {
     "name": "stdin",
     "output_type": "stream",
     "text": [
      "Choose an option:  1\n",
      "Enter an item to add:  milk\n"
     ]
    },
    {
     "name": "stdout",
     "output_type": "stream",
     "text": [
      "\n",
      "Menu:\n",
      "1. Add item\n",
      "2. Remove item\n",
      "3. Show list\n",
      "4. Clear list\n",
      "5. Exit\n"
     ]
    },
    {
     "name": "stdin",
     "output_type": "stream",
     "text": [
      "Choose an option:  1\n",
      "Enter an item to add:  bread\n"
     ]
    },
    {
     "name": "stdout",
     "output_type": "stream",
     "text": [
      "\n",
      "Menu:\n",
      "1. Add item\n",
      "2. Remove item\n",
      "3. Show list\n",
      "4. Clear list\n",
      "5. Exit\n"
     ]
    },
    {
     "name": "stdin",
     "output_type": "stream",
     "text": [
      "Choose an option:  3\n"
     ]
    },
    {
     "name": "stdout",
     "output_type": "stream",
     "text": [
      "\n",
      "Shopping List:\n",
      "1. milk\n",
      "2. bread\n",
      "\n",
      "Menu:\n",
      "1. Add item\n",
      "2. Remove item\n",
      "3. Show list\n",
      "4. Clear list\n",
      "5. Exit\n"
     ]
    },
    {
     "name": "stdin",
     "output_type": "stream",
     "text": [
      "Choose an option:  5\n"
     ]
    },
    {
     "name": "stdout",
     "output_type": "stream",
     "text": [
      "Goodbye!\n"
     ]
    }
   ],
   "source": [
    "exercise_8()"
   ]
  },
  {
   "cell_type": "code",
   "execution_count": 11,
   "id": "25ff7990-08a2-4368-8a94-650ffda32345",
   "metadata": {},
   "outputs": [],
   "source": [
    "def exercise_9():\n",
    "    questions = [\n",
    "        {\"question\": \"What is the capital of France?\", \"options\": [\"A. London\", \"B. Berlin\", \"C. Paris\"], \"answer\": \"C\"},\n",
    "        {\"question\": \"Which is the largest planet?\", \"options\": [\"A. Earth\", \"B. Jupiter\", \"C. Mars\"], \"answer\": \"B\"},\n",
    "        {\"question\": \"Who wrote 'Hamlet'?\", \"options\": [\"A. Shakespeare\", \"B. Dickens\", \"C. Tolkien\"], \"answer\": \"A\"}\n",
    "    ]\n",
    "    score = 0\n",
    "    for q in questions:\n",
    "        print(q[\"question\"])\n",
    "        for option in q[\"options\"]:\n",
    "            print(option)\n",
    "        answer = input(\"Your answer: \").upper()\n",
    "        if answer == q[\"answer\"]:\n",
    "            score += 1\n",
    "            print(\"Correct!\")\n",
    "        else:\n",
    "            print(\"Wrong.\")\n",
    "    print(f\"Your final score: {score}/{len(questions)}\")"
   ]
  },
  {
   "cell_type": "code",
   "execution_count": 13,
   "id": "fa357b60-7b7e-4528-a18e-b64b3a32fbcc",
   "metadata": {},
   "outputs": [
    {
     "name": "stdout",
     "output_type": "stream",
     "text": [
      "What is the capital of France?\n",
      "A. London\n",
      "B. Berlin\n",
      "C. Paris\n"
     ]
    },
    {
     "name": "stdin",
     "output_type": "stream",
     "text": [
      "Your answer:  C\n"
     ]
    },
    {
     "name": "stdout",
     "output_type": "stream",
     "text": [
      "Correct!\n",
      "Which is the largest planet?\n",
      "A. Earth\n",
      "B. Jupiter\n",
      "C. Mars\n"
     ]
    },
    {
     "name": "stdin",
     "output_type": "stream",
     "text": [
      "Your answer:  B\n"
     ]
    },
    {
     "name": "stdout",
     "output_type": "stream",
     "text": [
      "Correct!\n",
      "Who wrote 'Hamlet'?\n",
      "A. Shakespeare\n",
      "B. Dickens\n",
      "C. Tolkien\n"
     ]
    },
    {
     "name": "stdin",
     "output_type": "stream",
     "text": [
      "Your answer:  A\n"
     ]
    },
    {
     "name": "stdout",
     "output_type": "stream",
     "text": [
      "Correct!\n",
      "Your final score: 3/3\n"
     ]
    }
   ],
   "source": [
    "exercise_9()"
   ]
  },
  {
   "cell_type": "code",
   "execution_count": 15,
   "id": "6eb201f2-7e12-4bf8-bf37-06f14877b3b2",
   "metadata": {},
   "outputs": [],
   "source": [
    "from datetime import datetime\n",
    "\n",
    "def exercise_10():\n",
    "    with open(\"diary.txt\", \"a+\") as file:\n",
    "        entry = input(\"What did you do today? \")\n",
    "        date = datetime.now().strftime(\"%Y-%m-%d %H:%M:%S\")\n",
    "        file.write(f\"{date}: {entry}\\n\")\n",
    "        file.seek(0)\n",
    "        print(\"\\nDiary contents:\")\n",
    "        print(file.read())"
   ]
  },
  {
   "cell_type": "code",
   "execution_count": 17,
   "id": "cb533d11-7d69-42fc-b4e7-109333b3a68e",
   "metadata": {},
   "outputs": [
    {
     "name": "stdin",
     "output_type": "stream",
     "text": [
      "What did you do today?  Learn Python\n"
     ]
    },
    {
     "name": "stdout",
     "output_type": "stream",
     "text": [
      "\n",
      "Diary contents:\n",
      "2024-12-11 11:17:07: Learn Python\n",
      "\n"
     ]
    }
   ],
   "source": [
    "exercise_10()"
   ]
  }
 ],
 "metadata": {
  "kernelspec": {
   "display_name": "Python 3 (ipykernel)",
   "language": "python",
   "name": "python3"
  },
  "language_info": {
   "codemirror_mode": {
    "name": "ipython",
    "version": 3
   },
   "file_extension": ".py",
   "mimetype": "text/x-python",
   "name": "python",
   "nbconvert_exporter": "python",
   "pygments_lexer": "ipython3",
   "version": "3.12.4"
  }
 },
 "nbformat": 4,
 "nbformat_minor": 5
}
